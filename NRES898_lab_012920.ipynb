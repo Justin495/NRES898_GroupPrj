{
 "cells": [
  {
   "cell_type": "code",
   "execution_count": 1,
   "metadata": {},
   "outputs": [
    {
     "data": {
      "text/plain": [
       "(6, 'nathan')"
      ]
     },
     "execution_count": 1,
     "metadata": {},
     "output_type": "execute_result"
    }
   ],
   "source": [
    "# length of longest word\n",
    "def getWordLen(wordlist):\n",
    "    max_Len = 0\n",
    "    for word in wordlist:\n",
    "        if len(word)> max_Len:\n",
    "            max_Len = len(word)\n",
    "            result = word\n",
    "    return max_Len, result\n",
    "getWordLen(['hello', 'nathan', 'unl'])"
   ]
  },
  {
   "cell_type": "code",
   "execution_count": 2,
   "metadata": {},
   "outputs": [
    {
     "name": "stdout",
     "output_type": "stream",
     "text": [
      "8\n"
     ]
    }
   ],
   "source": [
    "# unique string character count (could convert to set and then count set)\n",
    "string = 'test string'\n",
    "unique =[]\n",
    "for char in string[::]:\n",
    "    if char not in unique:\n",
    "        unique.append(char)\n",
    "print(len(unique))"
   ]
  },
  {
   "cell_type": "code",
   "execution_count": 3,
   "metadata": {},
   "outputs": [
    {
     "name": "stdout",
     "output_type": "stream",
     "text": [
      "orginal dictionary:  {'David': 16, 'Isabell': 31, 'Brandon': 25}\n",
      "ascending order:  [('Brandon', 25), ('David', 16), ('Isabell', 31)]\n",
      "descending order:  [('Isabell', 31), ('David', 16), ('Brandon', 25)]\n"
     ]
    }
   ],
   "source": [
    "# sort dictionary ascending and descending\n",
    "import operator\n",
    "dict1 = {\"David\": 16, \"Isabell\": 31, \"Brandon\": 25}\n",
    "\n",
    "aDict = sorted(dict1.items(), key=operator.itemgetter(0))\n",
    "\n",
    "dDict = sorted(dict1.items(), key=operator.itemgetter(0), reverse=True)\n",
    "\n",
    "print(\"orginal dictionary: \", dict1)\n",
    "print(\"ascending order: \" , aDict)\n",
    "print(\"descending order: \", dDict)"
   ]
  },
  {
   "cell_type": "code",
   "execution_count": 4,
   "metadata": {},
   "outputs": [
    {
     "name": "stdout",
     "output_type": "stream",
     "text": [
      "10\n",
      "gestStrint\n"
     ]
    }
   ],
   "source": [
    "# change given string to new string\n",
    "ex4String = \"testString\"\n",
    "charCnt = len(ex4String)\n",
    "newSplit = charCnt - 1\n",
    "newString = ex4String[charCnt-1] + ex4String[1:newSplit] + ex4String[0]\n",
    "print(charCnt)\n",
    "print(newString)"
   ]
  },
  {
   "cell_type": "code",
   "execution_count": 5,
   "metadata": {
    "scrolled": true
   },
   "outputs": [
    {
     "name": "stdout",
     "output_type": "stream",
     "text": [
      "True\n"
     ]
    }
   ],
   "source": [
    "# compare two lists for common member\n",
    "list1 = [1,2,3,4,5,6,7]\n",
    "list2 = [7,8,9,11,12,13]\n",
    "\n",
    "values= set(list1) & set(list2)\n",
    "if len(values) > 0:\n",
    "    print(True)\n"
   ]
  },
  {
   "cell_type": "code",
   "execution_count": 6,
   "metadata": {},
   "outputs": [
    {
     "data": {
      "text/plain": [
       "6"
      ]
     },
     "execution_count": 6,
     "metadata": {},
     "output_type": "execute_result"
    }
   ],
   "source": [
    "2*3"
   ]
  },
  {
   "cell_type": "code",
   "execution_count": 1,
   "metadata": {},
   "outputs": [
    {
     "name": "stdout",
     "output_type": "stream",
     "text": [
      "for value: $ 0.25\n",
      "Quarters Due:  1\n",
      "Total Coins Due:  1\n",
      "\n",
      "for value: $ 0.75\n",
      "Quarters Due:  3\n",
      "Total Coins Due:  3\n",
      "\n",
      "for value: $ 0.3\n",
      "Quarters Due:  1\n",
      "Nickels Due:  1\n",
      "Total Coins Due:  2\n",
      "\n",
      "for value: $ 1.87\n",
      "Quarters Due:  7\n",
      "Dimes Due:  1\n",
      "Pennies Due:  2\n",
      "Total Coins Due:  10\n",
      "\n"
     ]
    }
   ],
   "source": [
    "# return minimum number of coins\n",
    "def calcChange(val):\n",
    "    Q = 25\n",
    "\n",
    "    D = 10\n",
    "\n",
    "    N = 5\n",
    "\n",
    "    P = 1\n",
    "    \n",
    "    coinDict={}\n",
    "    coinList = []\n",
    "    i=0\n",
    "    x=0\n",
    "    for i in range(len(val)):\n",
    "        Qcnt = 0\n",
    "        Dcnt = 0\n",
    "        Ncnt = 0\n",
    "        Pcnt = 0\n",
    "        \n",
    "        valCents = val[i] * 100\n",
    "        while valCents > 0:\n",
    "            if valCents >= Q:\n",
    "                valCents = valCents - Q\n",
    "                Qcnt = Qcnt + 1 \n",
    "            elif valCents >= D:\n",
    "                valCents = valCents - D\n",
    "                Dcnt = Dcnt + 1\n",
    "            elif valCents >= N:\n",
    "                valCents = valCents - N\n",
    "                Ncnt = Ncnt + 1\n",
    "            elif valCents >= P:\n",
    "                valCents = valCents - P\n",
    "                Pcnt = Pcnt + 1\n",
    "            totalCoins = Qcnt + Dcnt + Ncnt + Pcnt\n",
    "        \n",
    "        print(\"for value: $\", val[i])\n",
    "        \n",
    "        if Qcnt > 0:\n",
    "            print(\"Quarters Due: \", Qcnt)\n",
    "        if Dcnt > 0:\n",
    "            print('Dimes Due: ', Dcnt)\n",
    "        if Ncnt > 0:\n",
    "            print(\"Nickels Due: \", Ncnt)\n",
    "        if Pcnt > 0:\n",
    "            print(\"Pennies Due: \", Pcnt)\n",
    "\n",
    "        print(\"Total Coins Due: \", totalCoins)\n",
    "        print()\n",
    "        \n",
    "calcChange ([0.25,0.75,0.30,1.87])"
   ]
  },
  {
   "cell_type": "code",
   "execution_count": null,
   "metadata": {},
   "outputs": [],
   "source": []
  }
 ],
 "metadata": {
  "kernelspec": {
   "display_name": "Python 3",
   "language": "python",
   "name": "python3"
  },
  "language_info": {
   "codemirror_mode": {
    "name": "ipython",
    "version": 3
   },
   "file_extension": ".py",
   "mimetype": "text/x-python",
   "name": "python",
   "nbconvert_exporter": "python",
   "pygments_lexer": "ipython3",
   "version": "3.7.4"
  }
 },
 "nbformat": 4,
 "nbformat_minor": 4
}
